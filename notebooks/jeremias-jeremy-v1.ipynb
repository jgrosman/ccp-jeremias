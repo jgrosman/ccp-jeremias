{
 "cells": [
  {
   "cell_type": "code",
   "execution_count": 100,
   "metadata": {
    "collapsed": false
   },
   "outputs": [
    {
     "name": "stdout",
     "output_type": "stream",
     "text": [
      "Populating the interactive namespace from numpy and matplotlib\n"
     ]
    }
   ],
   "source": [
    "%pylab inline"
   ]
  },
  {
   "cell_type": "code",
   "execution_count": 101,
   "metadata": {
    "collapsed": false
   },
   "outputs": [],
   "source": [
    "import os, shutil, re\n",
    "from collections import Counter\n",
    "import numpy as np\n",
    "from unidecode import unidecode\n",
    "import matplotlib.pyplot as plt\n",
    "from sklearn import manifold\n",
    "from nltk.corpus.reader import PlaintextCorpusReader\n",
    "from adjustText import adjust_text \n",
    "from sklearn.feature_extraction.text import TfidfTransformer, TfidfVectorizer, CountVectorizer"
   ]
  },
  {
   "cell_type": "code",
   "execution_count": 102,
   "metadata": {
    "collapsed": true
   },
   "outputs": [],
   "source": [
    "_source = '/Users/jgrosman/Projects/jeremias/raw/'\n",
    "_target = '/Users/jgrosman/Projects/jeremias/clean/'"
   ]
  },
  {
   "cell_type": "code",
   "execution_count": 103,
   "metadata": {
    "collapsed": false
   },
   "outputs": [],
   "source": [
    "filenames = os.listdir(_source)[1:]"
   ]
  },
  {
   "cell_type": "code",
   "execution_count": 104,
   "metadata": {
    "collapsed": false
   },
   "outputs": [],
   "source": [
    "#clean data\n",
    "for i, fname in enumerate(filenames):\n",
    "    fpath = os.path.join(_source, fname)\n",
    "    tpath = os.path.join(_target, fname)\n",
    "    \n",
    "    with open(fpath, 'r') as f_:\n",
    "        raw = f_.read().lower()\n",
    "        raw = re.sub(\"\\d+\", \"\", raw)\n",
    "    \n",
    "    with open(tpath, 'w') as f_:\n",
    "        f_.write(raw)"
   ]
  },
  {
   "cell_type": "code",
   "execution_count": 105,
   "metadata": {
    "collapsed": false
   },
   "outputs": [],
   "source": [
    "#file attributes\n",
    "filenames = os.listdir(_target)[1:]\n",
    "filepaths = [os.path.join(_target, fname) for fname in filenames]"
   ]
  },
  {
   "cell_type": "code",
   "execution_count": 106,
   "metadata": {
    "collapsed": true
   },
   "outputs": [],
   "source": [
    "deliberative = [\n",
    "    'partn[a-z]*',\n",
    "    'collaborat[a-z]*',\n",
    "    'subj[a-z]*',\n",
    "    'revol[a-z]*',\n",
    "    'co-design',\n",
    "    'engag[a-z]*',\n",
    "    'empow[a-z]*',\n",
    "    'interpret[a-z]*',\n",
    "    'learn[a-z]*',\n",
    "    'explor[a-z]*',\n",
    "    'tacit knowl[a-z]*',\n",
    "    'socially robust',\n",
    "    'reflect[a-z]*',\n",
    "    'disput[a-z]*',\n",
    "    'civil soc[a-z]*',\n",
    "    'lifeworld',\n",
    "    'joint understanding',\n",
    "    'mutual[a-z]*',\n",
    "    'dillemm[a-z]*',\n",
    "    'coordinat[a-z]*',\n",
    "    'align[a-z]*',\n",
    "    'arrang[a-z]*',\n",
    "]\n",
    "\n",
    "technocratic = [\n",
    "    'stakeholder',\n",
    "    'decision maker',\n",
    "    'implement',\n",
    "    'input',\n",
    "    'output',\n",
    "    'effecti[a-z]*',\n",
    "    'scrutiniz[a-z]*',\n",
    "    'verif[a-z]*',\n",
    "    'test[a-z]*',\n",
    "    'expert[a-z]*',\n",
    "    'policy',\n",
    "    'state',\n",
    "    'reform',\n",
    "    'govern[a-z]*',\n",
    "    'solution',\n",
    "    'solv[a-z]*',\n",
    "    'supervis[a-z]*',\n",
    "    'regulat[a-z]*',\n",
    "]\n",
    "\n",
    "vocabulary = technocratic+deliberative"
   ]
  },
  {
   "cell_type": "code",
   "execution_count": 107,
   "metadata": {
    "collapsed": true
   },
   "outputs": [],
   "source": [
    "technocratic_data = np.ndarray((len(filenames), len(technocratic)))\n",
    "deliberative_data = np.ndarray((len(filenames), len(deliberative)))\n",
    "term_counts = np.ndarray((len(filenames), len(vocabulary)))\n",
    "document_size = np.ndarray((len(filenames),))"
   ]
  },
  {
   "cell_type": "code",
   "execution_count": 108,
   "metadata": {
    "collapsed": false
   },
   "outputs": [
    {
     "name": "stdout",
     "output_type": "stream",
     "text": [
      "/Users/jgrosman/Projects/jeremias/clean/Zurayk-2011-Ensuring that potential Gulf farml.txt 1314"
     ]
    },
    {
     "data": {
      "text/plain": [
       "\"\\nprint 'Articles without technocratic data: '\\nfor i in np.where(technocratic_data.sum(axis=1) == 0)[0]:\\n    print  filepaths[i]\\n        \\nprint 'Articles without deliberative data: '\\nfor i in np.where(deliberative_data.sum(axis=1) == 0)[0]:\\n    print  filepaths[i]\\n\""
      ]
     },
     "execution_count": 108,
     "metadata": {},
     "output_type": "execute_result"
    },
    {
     "name": "stdout",
     "output_type": "stream",
     "text": [
      "\n"
     ]
    }
   ],
   "source": [
    "for i, fname in enumerate(filepaths):\n",
    "    \n",
    "    fpath = os.path.join(_target, fname)\n",
    "    with open(fpath, 'r') as f:\n",
    "        raw = f.read().lower().decode('utf-8')\n",
    "    \n",
    "    for j, term in enumerate(technocratic):\n",
    "        technocratic_data[i, j] = len(re.findall(term, raw, flags=re.U))\n",
    "    for j, term in enumerate(deliberative):\n",
    "        deliberative_data[i, j] = len(re.findall(term, raw, flags=re.U))\n",
    "    for j, term in enumerate(vocabulary):\n",
    "        term_counts[i, j] = len(re.findall(term, raw, flags=re.U))\n",
    "        \n",
    "    document_size[i] = len(raw.split())\n",
    "\n",
    "    print '\\r', fname, i,\n",
    "\n",
    "\"\"\"\n",
    "print 'Articles without technocratic data: '\n",
    "for i in np.where(technocratic_data.sum(axis=1) == 0)[0]:\n",
    "    print  filepaths[i]\n",
    "        \n",
    "print 'Articles without deliberative data: '\n",
    "for i in np.where(deliberative_data.sum(axis=1) == 0)[0]:\n",
    "    print  filepaths[i]\n",
    "\"\"\""
   ]
  },
  {
   "cell_type": "code",
   "execution_count": 109,
   "metadata": {
    "collapsed": false
   },
   "outputs": [],
   "source": [
    "deliberative_data_masked = np.ma.MaskedArray(deliberative_data, not np.isnan)\n",
    "technocratic_data_masked = np.ma.MaskedArray(technocratic_data, not np.isnan)\n",
    "\n",
    "D_freq = np.array(deliberative_data_masked.sum(axis=1) / (document_size * len(vocabulary)))\n",
    "T_freq = np.array(technocratic_data_masked.sum(axis=1) / (document_size * len(vocabulary)))\n"
   ]
  },
  {
   "cell_type": "code",
   "execution_count": 110,
   "metadata": {
    "collapsed": false
   },
   "outputs": [
    {
     "data": {
      "image/png": "[encoded data removed]",
      "text/plain": [
       "<matplotlib.figure.Figure at 0x116157a50>"
      ]
     },
     "metadata": {},
     "output_type": "display_data"
    }
   ],
   "source": [
    "plt.figure(figsize=(10, 10))\n",
    "plt.axis([D_freq.min(),D_freq.max(),T_freq.min(),T_freq.max()])\n",
    "plt.scatter(D_freq, _T_freq)\n",
    "plt.show()"
   ]
  },
  {
   "cell_type": "raw",
   "metadata": {
    "collapsed": false
   },
   "source": []
  },
  {
   "cell_type": "code",
   "execution_count": null,
   "metadata": {
    "collapsed": false,
    "scrolled": true
   },
   "outputs": [],
   "source": []
  },
  {
   "cell_type": "code",
   "execution_count": null,
   "metadata": {
    "collapsed": false
   },
   "outputs": [],
   "source": []
  },
  {
   "cell_type": "code",
   "execution_count": null,
   "metadata": {
    "collapsed": false
   },
   "outputs": [],
   "source": []
  },
  {
   "cell_type": "code",
   "execution_count": null,
   "metadata": {
    "collapsed": false
   },
   "outputs": [],
   "source": []
  },
  {
   "cell_type": "code",
   "execution_count": null,
   "metadata": {
    "collapsed": false
   },
   "outputs": [],
   "source": []
  },
  {
   "cell_type": "code",
   "execution_count": null,
   "metadata": {
    "collapsed": false
   },
   "outputs": [],
   "source": []
  },
  {
   "cell_type": "code",
   "execution_count": null,
   "metadata": {
    "collapsed": false
   },
   "outputs": [],
   "source": []
  },
  {
   "cell_type": "code",
   "execution_count": null,
   "metadata": {
    "collapsed": false
   },
   "outputs": [],
   "source": []
  },
  {
   "cell_type": "code",
   "execution_count": null,
   "metadata": {
    "collapsed": true
   },
   "outputs": [],
   "source": []
  },
  {
   "cell_type": "code",
   "execution_count": 9,
   "metadata": {
    "collapsed": false
   },
   "outputs": [],
   "source": []
  },
  {
   "cell_type": "code",
   "execution_count": 10,
   "metadata": {
    "collapsed": false
   },
   "outputs": [],
   "source": []
  },
  {
   "cell_type": "code",
   "execution_count": null,
   "metadata": {
    "collapsed": false
   },
   "outputs": [],
   "source": []
  },
  {
   "cell_type": "code",
   "execution_count": null,
   "metadata": {
    "collapsed": false
   },
   "outputs": [],
   "source": []
  },
  {
   "cell_type": "code",
   "execution_count": null,
   "metadata": {
    "collapsed": false,
    "scrolled": true
   },
   "outputs": [],
   "source": []
  },
  {
   "cell_type": "code",
   "execution_count": null,
   "metadata": {
    "collapsed": false
   },
   "outputs": [],
   "source": []
  },
  {
   "cell_type": "code",
   "execution_count": null,
   "metadata": {
    "collapsed": false
   },
   "outputs": [],
   "source": []
  },
  {
   "cell_type": "code",
   "execution_count": null,
   "metadata": {
    "collapsed": false
   },
   "outputs": [],
   "source": []
  },
  {
   "cell_type": "code",
   "execution_count": null,
   "metadata": {
    "collapsed": true
   },
   "outputs": [],
   "source": []
  },
  {
   "cell_type": "code",
   "execution_count": null,
   "metadata": {
    "collapsed": false
   },
   "outputs": [],
   "source": []
  },
  {
   "cell_type": "code",
   "execution_count": null,
   "metadata": {
    "collapsed": false
   },
   "outputs": [],
   "source": []
  },
  {
   "cell_type": "code",
   "execution_count": null,
   "metadata": {
    "collapsed": false
   },
   "outputs": [],
   "source": []
  },
  {
   "cell_type": "code",
   "execution_count": null,
   "metadata": {
    "collapsed": false
   },
   "outputs": [],
   "source": []
  },
  {
   "cell_type": "code",
   "execution_count": null,
   "metadata": {
    "collapsed": false
   },
   "outputs": [],
   "source": []
  },
  {
   "cell_type": "code",
   "execution_count": null,
   "metadata": {
    "collapsed": true
   },
   "outputs": [],
   "source": []
  },
  {
   "cell_type": "code",
   "execution_count": null,
   "metadata": {
    "collapsed": false
   },
   "outputs": [],
   "source": []
  },
  {
   "cell_type": "code",
   "execution_count": null,
   "metadata": {
    "collapsed": true
   },
   "outputs": [],
   "source": []
  },
  {
   "cell_type": "code",
   "execution_count": null,
   "metadata": {
    "collapsed": true
   },
   "outputs": [],
   "source": []
  },
  {
   "cell_type": "code",
   "execution_count": null,
   "metadata": {
    "collapsed": true
   },
   "outputs": [],
   "source": []
  },
  {
   "cell_type": "code",
   "execution_count": null,
   "metadata": {
    "collapsed": false
   },
   "outputs": [],
   "source": []
  },
  {
   "cell_type": "code",
   "execution_count": null,
   "metadata": {
    "collapsed": false
   },
   "outputs": [],
   "source": []
  },
  {
   "cell_type": "code",
   "execution_count": null,
   "metadata": {
    "collapsed": false
   },
   "outputs": [],
   "source": []
  },
  {
   "cell_type": "code",
   "execution_count": null,
   "metadata": {
    "collapsed": true
   },
   "outputs": [],
   "source": []
  },
  {
   "cell_type": "code",
   "execution_count": null,
   "metadata": {
    "collapsed": true
   },
   "outputs": [],
   "source": []
  },
  {
   "cell_type": "code",
   "execution_count": null,
   "metadata": {
    "collapsed": false
   },
   "outputs": [],
   "source": []
  },
  {
   "cell_type": "code",
   "execution_count": null,
   "metadata": {
    "collapsed": false
   },
   "outputs": [],
   "source": []
  },
  {
   "cell_type": "code",
   "execution_count": null,
   "metadata": {
    "collapsed": false
   },
   "outputs": [],
   "source": []
  },
  {
   "cell_type": "code",
   "execution_count": null,
   "metadata": {
    "collapsed": true
   },
   "outputs": [],
   "source": []
  },
  {
   "cell_type": "code",
   "execution_count": null,
   "metadata": {
    "collapsed": false
   },
   "outputs": [],
   "source": []
  },
  {
   "cell_type": "code",
   "execution_count": null,
   "metadata": {
    "collapsed": true
   },
   "outputs": [],
   "source": []
  }
 ],
 "metadata": {
  "anaconda-cloud": {},
  "kernelspec": {
   "display_name": "Python [Root]",
   "language": "python",
   "name": "Python [Root]"
  },
  "language_info": {
   "codemirror_mode": {
    "name": "ipython",
    "version": 2
   },
   "file_extension": ".py",
   "mimetype": "text/x-python",
   "name": "python",
   "nbconvert_exporter": "python",
   "pygments_lexer": "ipython2",
   "version": "2.7.12"
  }
 },
 "nbformat": 4,
 "nbformat_minor": 0
}
